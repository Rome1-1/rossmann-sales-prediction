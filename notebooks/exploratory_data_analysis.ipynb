{
 "cells": [
  {
   "cell_type": "code",
   "execution_count": 26,
   "metadata": {
    "vscode": {
     "languageId": "plaintext"
    }
   },
   "outputs": [
    {
     "name": "stderr",
     "output_type": "stream",
     "text": [
      "C:\\Users\\teble\\AppData\\Local\\Temp\\ipykernel_26348\\3392884638.py:4: DtypeWarning: Columns (7) have mixed types. Specify dtype option on import or set low_memory=False.\n",
      "  train = pd.read_csv(r'C:\\Users\\teble\\rossmann-sales-prediction\\rossmann-sales-prediction\\data\\train.csv')\n"
     ]
    },
    {
     "name": "stdout",
     "output_type": "stream",
     "text": [
      "Store            0\n",
      "DayOfWeek        0\n",
      "Date             0\n",
      "Sales            0\n",
      "Customers        0\n",
      "Open             0\n",
      "Promo            0\n",
      "StateHoliday     0\n",
      "SchoolHoliday    0\n",
      "dtype: int64\n",
      "Store                     int64\n",
      "DayOfWeek                 int64\n",
      "Date             datetime64[ns]\n",
      "Sales                     int64\n",
      "Customers                 int64\n",
      "Open                      int64\n",
      "Promo                     int64\n",
      "StateHoliday           category\n",
      "SchoolHoliday             int64\n",
      "dtype: object\n"
     ]
    }
   ],
   "source": [
    "import pandas as pd\n",
    "import numpy as np\n",
    "# Load data\n",
    "train = pd.read_csv(r'C:\\Users\\teble\\rossmann-sales-prediction\\rossmann-sales-prediction\\data\\train.csv')\n",
    "test = pd.read_csv(r'C:\\Users\\teble\\rossmann-sales-prediction\\rossmann-sales-prediction\\data\\test.csv', low_memory=False)\n",
    "store = pd.read_csv(r'C:\\Users\\teble\\rossmann-sales-prediction\\rossmann-sales-prediction\\data\\store.csv')\n",
    "sample_submission = pd.read_csv(r'C:\\Users\\teble\\rossmann-sales-prediction\\rossmann-sales-prediction\\data\\sample_submission.csv')\n",
    "train['Date'] = pd.to_datetime(train['Date'])\n",
    "train['StateHoliday'] = train['StateHoliday'].astype('category')\n",
    "print(train.isnull().sum())\n",
    "\n",
    "\n",
    "# Print the data types of the columns in the train dataset\n",
    "print(train.dtypes)"
   ]
  },
  {
   "cell_type": "code",
   "execution_count": 27,
   "metadata": {
    "vscode": {
     "languageId": "plaintext"
    }
   },
   "outputs": [],
   "source": [
    "# Merge data on 'Store' column\n",
    "train = train.merge(store, how='left', on='Store')\n",
    "test = test.merge(store, how='left', on='Store')"
   ]
  },
  {
   "cell_type": "code",
   "execution_count": 28,
   "metadata": {
    "vscode": {
     "languageId": "plaintext"
    }
   },
   "outputs": [
    {
     "name": "stdout",
     "output_type": "stream",
     "text": [
      "<class 'pandas.core.frame.DataFrame'>\n",
      "RangeIndex: 1017209 entries, 0 to 1017208\n",
      "Data columns (total 18 columns):\n",
      " #   Column                     Non-Null Count    Dtype         \n",
      "---  ------                     --------------    -----         \n",
      " 0   Store                      1017209 non-null  int64         \n",
      " 1   DayOfWeek                  1017209 non-null  int64         \n",
      " 2   Date                       1017209 non-null  datetime64[ns]\n",
      " 3   Sales                      1017209 non-null  int64         \n",
      " 4   Customers                  1017209 non-null  int64         \n",
      " 5   Open                       1017209 non-null  int64         \n",
      " 6   Promo                      1017209 non-null  int64         \n",
      " 7   StateHoliday               1017209 non-null  category      \n",
      " 8   SchoolHoliday              1017209 non-null  int64         \n",
      " 9   StoreType                  1017209 non-null  object        \n",
      " 10  Assortment                 1017209 non-null  object        \n",
      " 11  CompetitionDistance        1014567 non-null  float64       \n",
      " 12  CompetitionOpenSinceMonth  693861 non-null   float64       \n",
      " 13  CompetitionOpenSinceYear   693861 non-null   float64       \n",
      " 14  Promo2                     1017209 non-null  int64         \n",
      " 15  Promo2SinceWeek            509178 non-null   float64       \n",
      " 16  Promo2SinceYear            509178 non-null   float64       \n",
      " 17  PromoInterval              509178 non-null   object        \n",
      "dtypes: category(1), datetime64[ns](1), float64(5), int64(8), object(3)\n",
      "memory usage: 132.9+ MB\n",
      "None\n",
      "              Store     DayOfWeek                           Date  \\\n",
      "count  1.017209e+06  1.017209e+06                        1017209   \n",
      "mean   5.584297e+02  3.998341e+00  2014-04-11 01:30:42.846061824   \n",
      "min    1.000000e+00  1.000000e+00            2013-01-01 00:00:00   \n",
      "25%    2.800000e+02  2.000000e+00            2013-08-17 00:00:00   \n",
      "50%    5.580000e+02  4.000000e+00            2014-04-02 00:00:00   \n",
      "75%    8.380000e+02  6.000000e+00            2014-12-12 00:00:00   \n",
      "max    1.115000e+03  7.000000e+00            2015-07-31 00:00:00   \n",
      "std    3.219087e+02  1.997391e+00                            NaN   \n",
      "\n",
      "              Sales     Customers          Open         Promo  SchoolHoliday  \\\n",
      "count  1.017209e+06  1.017209e+06  1.017209e+06  1.017209e+06   1.017209e+06   \n",
      "mean   5.773819e+03  6.331459e+02  8.301067e-01  3.815145e-01   1.786467e-01   \n",
      "min    0.000000e+00  0.000000e+00  0.000000e+00  0.000000e+00   0.000000e+00   \n",
      "25%    3.727000e+03  4.050000e+02  1.000000e+00  0.000000e+00   0.000000e+00   \n",
      "50%    5.744000e+03  6.090000e+02  1.000000e+00  0.000000e+00   0.000000e+00   \n",
      "75%    7.856000e+03  8.370000e+02  1.000000e+00  1.000000e+00   0.000000e+00   \n",
      "max    4.155100e+04  7.388000e+03  1.000000e+00  1.000000e+00   1.000000e+00   \n",
      "std    3.849926e+03  4.644117e+02  3.755392e-01  4.857586e-01   3.830564e-01   \n",
      "\n",
      "       CompetitionDistance  CompetitionOpenSinceMonth  \\\n",
      "count         1.014567e+06              693861.000000   \n",
      "mean          5.430086e+03                   7.222866   \n",
      "min           2.000000e+01                   1.000000   \n",
      "25%           7.100000e+02                   4.000000   \n",
      "50%           2.330000e+03                   8.000000   \n",
      "75%           6.890000e+03                  10.000000   \n",
      "max           7.586000e+04                  12.000000   \n",
      "std           7.715324e+03                   3.211832   \n",
      "\n",
      "       CompetitionOpenSinceYear        Promo2  Promo2SinceWeek  \\\n",
      "count             693861.000000  1.017209e+06    509178.000000   \n",
      "mean                2008.690228  5.005638e-01        23.269093   \n",
      "min                 1900.000000  0.000000e+00         1.000000   \n",
      "25%                 2006.000000  0.000000e+00        13.000000   \n",
      "50%                 2010.000000  1.000000e+00        22.000000   \n",
      "75%                 2013.000000  1.000000e+00        37.000000   \n",
      "max                 2015.000000  1.000000e+00        50.000000   \n",
      "std                    5.992644  4.999999e-01        14.095973   \n",
      "\n",
      "       Promo2SinceYear  \n",
      "count    509178.000000  \n",
      "mean       2011.752774  \n",
      "min        2009.000000  \n",
      "25%        2011.000000  \n",
      "50%        2012.000000  \n",
      "75%        2013.000000  \n",
      "max        2015.000000  \n",
      "std           1.662870  \n",
      "   Store  DayOfWeek       Date  Sales  Customers  Open  Promo StateHoliday  \\\n",
      "0      1          5 2015-07-31   5263        555     1      1            0   \n",
      "1      2          5 2015-07-31   6064        625     1      1            0   \n",
      "2      3          5 2015-07-31   8314        821     1      1            0   \n",
      "3      4          5 2015-07-31  13995       1498     1      1            0   \n",
      "4      5          5 2015-07-31   4822        559     1      1            0   \n",
      "\n",
      "   SchoolHoliday StoreType Assortment  CompetitionDistance  \\\n",
      "0              1         c          a               1270.0   \n",
      "1              1         a          a                570.0   \n",
      "2              1         a          a              14130.0   \n",
      "3              1         c          c                620.0   \n",
      "4              1         a          a              29910.0   \n",
      "\n",
      "   CompetitionOpenSinceMonth  CompetitionOpenSinceYear  Promo2  \\\n",
      "0                        9.0                    2008.0       0   \n",
      "1                       11.0                    2007.0       1   \n",
      "2                       12.0                    2006.0       1   \n",
      "3                        9.0                    2009.0       0   \n",
      "4                        4.0                    2015.0       0   \n",
      "\n",
      "   Promo2SinceWeek  Promo2SinceYear    PromoInterval  \n",
      "0              NaN              NaN              NaN  \n",
      "1             13.0           2010.0  Jan,Apr,Jul,Oct  \n",
      "2             14.0           2011.0  Jan,Apr,Jul,Oct  \n",
      "3              NaN              NaN              NaN  \n",
      "4              NaN              NaN              NaN  \n"
     ]
    }
   ],
   "source": [
    "# Initial exploration\n",
    "print(train.info())  # Shows basic info about the dataset\n",
    "print(train.describe())  # Descriptive statistics\n",
    "print(train.head())  # First few rows"
   ]
  },
  {
   "cell_type": "code",
   "execution_count": 15,
   "metadata": {},
   "outputs": [
    {
     "name": "stdout",
     "output_type": "stream",
     "text": [
      "Store                             0\n",
      "DayOfWeek                         0\n",
      "Date                              0\n",
      "Sales                             0\n",
      "Customers                         0\n",
      "Open                              0\n",
      "Promo                             0\n",
      "StateHoliday                      0\n",
      "SchoolHoliday                     0\n",
      "StoreType                         0\n",
      "Assortment                        0\n",
      "CompetitionDistance            2642\n",
      "CompetitionOpenSinceMonth    323348\n",
      "CompetitionOpenSinceYear     323348\n",
      "Promo2                            0\n",
      "Promo2SinceWeek              508031\n",
      "Promo2SinceYear              508031\n",
      "PromoInterval                508031\n",
      "dtype: int64\n"
     ]
    }
   ],
   "source": [
    "# Check for missing values\n",
    "print(train.isnull().sum())"
   ]
  },
  {
   "cell_type": "code",
   "execution_count": 34,
   "metadata": {},
   "outputs": [
    {
     "name": "stdout",
     "output_type": "stream",
     "text": [
      "Store                             0\n",
      "DayOfWeek                         0\n",
      "Date                              0\n",
      "Sales                             0\n",
      "Customers                         0\n",
      "Open                              0\n",
      "Promo                             0\n",
      "StateHoliday                      0\n",
      "SchoolHoliday                     0\n",
      "StoreType                         0\n",
      "Assortment                        0\n",
      "CompetitionDistance               0\n",
      "CompetitionOpenSinceMonth    258728\n",
      "CompetitionOpenSinceYear     258728\n",
      "Promo2                            0\n",
      "Promo2SinceWeek              399497\n",
      "Promo2SinceYear              399497\n",
      "PromoInterval                399497\n",
      "dtype: int64\n"
     ]
    }
   ],
   "source": [
    "# Fill missing values for numerical columns with the median and reassign the column\n",
    "train['CompetitionDistance'] = train['CompetitionDistance'].fillna(train['CompetitionDistance'].median())\n",
    "\n",
    "# Similarly, you can handle other columns with missing values\n",
    "train['Sales'] = train['Sales'].fillna(train['Sales'].median())\n",
    "train['Open'] = train['Open'].fillna(train['Open'].mode()[0])  # For categorical columns, you can fill with mode\n",
    "\n",
    "# Check again after filling\n",
    "print(train.isnull().sum())\n"
   ]
  },
  {
   "cell_type": "code",
   "execution_count": 35,
   "metadata": {},
   "outputs": [],
   "source": [
    "# Remove rows with zero sales (outliers)\n",
    "train = train[train['Sales'] > 0]\n",
    "\n",
    "# Identifying and handling outliers (Z-score or IQR method)\n",
    "from scipy import stats"
   ]
  },
  {
   "cell_type": "code",
   "execution_count": 31,
   "metadata": {},
   "outputs": [
    {
     "name": "stdout",
     "output_type": "stream",
     "text": [
      "   Store  DayOfWeek       Date  Sales  Customers  Open  Promo StateHoliday  \\\n",
      "0      1          5 2015-07-31   5263        555     1      1            0   \n",
      "1      2          5 2015-07-31   6064        625     1      1            0   \n",
      "2      3          5 2015-07-31   8314        821     1      1            0   \n",
      "4      5          5 2015-07-31   4822        559     1      1            0   \n",
      "5      6          5 2015-07-31   5651        589     1      1            0   \n",
      "\n",
      "   SchoolHoliday StoreType Assortment  CompetitionDistance  \\\n",
      "0              1         c          a               1270.0   \n",
      "1              1         a          a                570.0   \n",
      "2              1         a          a              14130.0   \n",
      "4              1         a          a              29910.0   \n",
      "5              1         a          a                310.0   \n",
      "\n",
      "   CompetitionOpenSinceMonth  CompetitionOpenSinceYear  Promo2  \\\n",
      "0                        9.0                    2008.0       0   \n",
      "1                       11.0                    2007.0       1   \n",
      "2                       12.0                    2006.0       1   \n",
      "4                        4.0                    2015.0       0   \n",
      "5                       12.0                    2013.0       0   \n",
      "\n",
      "   Promo2SinceWeek  Promo2SinceYear    PromoInterval  \n",
      "0              NaN              NaN              NaN  \n",
      "1             13.0           2010.0  Jan,Apr,Jul,Oct  \n",
      "2             14.0           2011.0  Jan,Apr,Jul,Oct  \n",
      "4              NaN              NaN              NaN  \n",
      "5              NaN              NaN              NaN  \n"
     ]
    }
   ],
   "source": [
    "# Calculate Z-scores for the 'Sales' column\n",
    "z_scores = stats.zscore(train['Sales'])\n",
    "train = train[(z_scores < 3)]  # Remove extreme outliers with Z-score > 3\n",
    "\n",
    "# Alternatively, using the IQR method for 'Sales'\n",
    "Q1 = train['Sales'].quantile(0.25)\n",
    "Q3 = train['Sales'].quantile(0.75)\n",
    "IQR = Q3 - Q1\n",
    "train = train[(train['Sales'] >= (Q1 - 1.5 * IQR)) & (train['Sales'] <= (Q3 + 1.5 * IQR))]\n",
    "\n",
    "# Check the data after cleaning\n",
    "print(train.head())"
   ]
  },
  {
   "cell_type": "code",
   "execution_count": null,
   "metadata": {},
   "outputs": [],
   "source": []
  }
 ],
 "metadata": {
  "kernelspec": {
   "display_name": "Python (venv)",
   "language": "python",
   "name": "venv"
  },
  "language_info": {
   "codemirror_mode": {
    "name": "ipython",
    "version": 3
   },
   "file_extension": ".py",
   "mimetype": "text/x-python",
   "name": "python",
   "nbconvert_exporter": "python",
   "pygments_lexer": "ipython3",
   "version": "3.10.7"
  }
 },
 "nbformat": 4,
 "nbformat_minor": 4
}
