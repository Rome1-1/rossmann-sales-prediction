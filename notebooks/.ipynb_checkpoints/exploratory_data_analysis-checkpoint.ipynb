{
 "cells": [
  {
   "cell_type": "code",
   "execution_count": null,
   "metadata": {
    "vscode": {
     "languageId": "plaintext"
    }
   },
   "outputs": [],
   "source": [
    "import pandas as pd\n",
    "import numpy as np"
   ]
  },
  {
   "cell_type": "code",
   "execution_count": null,
   "metadata": {
    "vscode": {
     "languageId": "plaintext"
    }
   },
   "outputs": [],
   "source": [
    "# Load data\n",
    "train = pd.read_csv('C:\\Users\\teble\\rossmann-sales-prediction\\rossmann-sales-prediction\\data\\train.csv')\n",
    "test = pd.read_csv('C:\\Users\\teble\\rossmann-sales-prediction\\rossmann-sales-prediction\\data\\test.csv')\n",
    "store = pd.read_csv('C:\\Users\\teble\\rossmann-sales-prediction\\rossmann-sales-prediction\\data\\store.csv')\n",
    "sample_submission = pd.read_csv('C:\\Users\\teble\\rossmann-sales-prediction\\rossmann-sales-prediction\\data\\sample_submission.csv')"
   ]
  },
  {
   "cell_type": "code",
   "execution_count": null,
   "metadata": {
    "vscode": {
     "languageId": "plaintext"
    }
   },
   "outputs": [],
   "source": [
    "# Merge data on 'Store' column\n",
    "train = train.merge(store, how='left', on='Store')\n",
    "test = test.merge(store, how='left', on='Store')"
   ]
  },
  {
   "cell_type": "code",
   "execution_count": null,
   "metadata": {
    "vscode": {
     "languageId": "plaintext"
    }
   },
   "outputs": [],
   "source": [
    "# Initial exploration\n",
    "print(train.info())  # Shows basic info about the dataset\n",
    "print(train.describe())  # Descriptive statistics\n",
    "print(train.head())  # First few rows"
   ]
  }
 ],
 "metadata": {
  "language_info": {
   "name": "python"
  }
 },
 "nbformat": 4,
 "nbformat_minor": 2
}
